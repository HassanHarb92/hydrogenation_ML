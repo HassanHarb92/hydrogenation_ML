{
 "cells": [
  {
   "cell_type": "code",
   "execution_count": 1,
   "id": "6fafad43",
   "metadata": {},
   "outputs": [
    {
     "name": "stdout",
     "output_type": "stream",
     "text": [
      "   Unnamed: 0 unsat_SMILE sat_SMILE  unsat_enthalpy  sat_enthalpy  nH2    pH2  \\\n",
      "0           0         C#C        CC      -77.208448    -79.657478    2  13.42   \n",
      "1           1         C=O        CO     -114.367776   -115.566787    1   6.29   \n",
      "2           2        CC#C       CCC     -116.454870   -118.895579    2   9.15   \n",
      "3           3        CC=O       CCO     -153.618376   -154.809561    1   4.38   \n",
      "4           4     CC(C)=O    CC(C)O     -192.867362   -194.054239    1   3.36   \n",
      "\n",
      "      delta_H  \n",
      "0  150.735206  \n",
      "1   83.774454  \n",
      "2  139.811813  \n",
      "3   63.227291  \n",
      "4   51.916637  \n"
     ]
    }
   ],
   "source": [
    "import pandas as pd\n",
    "\n",
    "# Read the CSV file\n",
    "file_path = 'gdb9_G4MP2_withdata_hydrogenation.csv'\n",
    "data = pd.read_csv(file_path)\n",
    "\n",
    "# Display the first few rows to understand what's in the data\n",
    "print(data.head())"
   ]
  },
  {
   "cell_type": "code",
   "execution_count": 2,
   "id": "be6684f9",
   "metadata": {},
   "outputs": [
    {
     "name": "stdout",
     "output_type": "stream",
     "text": [
      "The cleaned data has been saved to gdb9_G4MP2_withdata_hydrogenation_clean.csv\n"
     ]
    }
   ],
   "source": [
    "import pandas as pd\n",
    "\n",
    "# Read the CSV file\n",
    "file_path = 'gdb9_G4MP2_withdata_hydrogenation.csv'\n",
    "data = pd.read_csv(file_path)\n",
    "\n",
    "# Select only the columns you care about\n",
    "selected_columns = ['unsat_SMILE', 'sat_SMILE', 'delta_H', 'nH2', 'pH2']\n",
    "clean_data = data[selected_columns]\n",
    "\n",
    "# Save the new DataFrame to a new CSV file\n",
    "clean_file_path = 'gdb9_G4MP2_withdata_hydrogenation_clean.csv'\n",
    "clean_data.to_csv(clean_file_path, index=False)\n",
    "\n",
    "print(f\"The cleaned data has been saved to {clean_file_path}\")\n"
   ]
  },
  {
   "cell_type": "code",
   "execution_count": 6,
   "id": "06310ca1",
   "metadata": {},
   "outputs": [
    {
     "data": {
      "image/png": "[encoded data removed]",
      "text/plain": [
       "<Figure size 864x576 with 1 Axes>"
      ]
     },
     "metadata": {
      "needs_background": "light"
     },
     "output_type": "display_data"
    }
   ],
   "source": [
    "import matplotlib.pyplot as plt\n",
    "\n",
    "# Set the figure size (width, height) in inches\n",
    "plt.figure(figsize=(12, 8))\n",
    "\n",
    "# Plotting a histogram of the hydrogenation enthalpies (delta_H) with more bins\n",
    "plt.hist(data['delta_H'], bins=100, edgecolor='black') # Increase the number of bins to make each bar narrower\n",
    "plt.xlabel('Hydrogenation Enthalpy (delta_H)')\n",
    "plt.ylabel('Frequency')\n",
    "plt.title('Distribution of Hydrogenation Enthalpies')\n",
    "plt.show()\n"
   ]
  }
 ],
 "metadata": {
  "kernelspec": {
   "display_name": "Python 3 (ipykernel)",
   "language": "python",
   "name": "python3"
  },
  "language_info": {
   "codemirror_mode": {
    "name": "ipython",
    "version": 3
   },
   "file_extension": ".py",
   "mimetype": "text/x-python",
   "name": "python",
   "nbconvert_exporter": "python",
   "pygments_lexer": "ipython3",
   "version": "3.9.12"
  }
 },
 "nbformat": 4,
 "nbformat_minor": 5
}
