{
 "cells": [
  {
   "cell_type": "code",
   "execution_count": null,
   "id": "66beb1e2",
   "metadata": {},
   "outputs": [],
   "source": [
    "# Note: I ran this on Google Colab \n",
    "\n",
    "from tensorflow.keras.preprocessing.text import Tokenizer\n",
    "from tensorflow.keras.preprocessing.sequence import pad_sequences\n",
    "from tensorflow.keras.models import Sequential\n",
    "from tensorflow.keras.layers import Embedding, Conv1D, MaxPooling1D, Flatten, Dense\n",
    "from sklearn.model_selection import train_test_split\n",
    "import pandas as pd \n",
    "\n",
    "file_path = 'gdb9_G4MP2_withdata_hydrogenation_clean.csv'\n",
    "data = pd.read_csv(file_path)\n",
    "\n",
    "\n",
    "# Tokenize the SMILES strings\n",
    "tokenizer = Tokenizer(char_level=True)\n",
    "tokenizer.fit_on_texts(data['unsat_SMILE'])\n",
    "sequences = tokenizer.texts_to_sequences(data['unsat_SMILE'])\n",
    "X = pad_sequences(sequences)\n",
    "\n",
    "# Target variable\n",
    "y = data['delta_H'].values\n",
    "\n",
    "# Split the data\n",
    "X_train, X_test, y_train, y_test = train_test_split(X, y, test_size=0.2, random_state=42)\n",
    "\n",
    "# Define the model\n",
    "model = Sequential()\n",
    "model.add(Embedding(input_dim=len(tokenizer.word_index) + 1, output_dim=128, input_length=X.shape[1]))\n",
    "model.add(Conv1D(64, 3, activation='relu'))\n",
    "model.add(MaxPooling1D(3))\n",
    "model.add(Flatten())\n",
    "model.add(Dense(64, activation='relu'))\n",
    "model.add(Dense(1))\n",
    "\n",
    "# Compile the model\n",
    "model.compile(optimizer='adam', loss='mse')\n",
    "\n",
    "# Train the model\n",
    "model.fit(X_train, y_train, validation_data=(X_test, y_test), epochs=10, batch_size=32)\n",
    "\n",
    "# You can now evaluate the model, make predictions, etc.\n"
   ]
  },
  {
   "cell_type": "code",
   "execution_count": null,
   "id": "40623619",
   "metadata": {},
   "outputs": [],
   "source": [
    "# Evaluate the model on the test data\n",
    "loss = model.evaluate(X_test, y_test)\n",
    "print(f\"Test Loss: {loss}\")\n",
    "\n",
    "# Make predictions\n",
    "predictions = model.predict(X_test)\n",
    "\n",
    "# If you want to visualize the predictions vs. the actual values, you can use a scatter plot\n",
    "import matplotlib.pyplot as plt\n",
    "\n",
    "plt.scatter(y_test, predictions)\n",
    "plt.xlabel(\"Actual Hydrogenation Enthalpy\")\n",
    "plt.ylabel(\"Predicted Hydrogenation Enthalpy\")\n",
    "plt.title(\"Actual vs Predicted Hydrogenation Enthalpy\")\n",
    "plt.show()\n",
    "\n",
    "# You can also compute other metrics, like the R2 score, to get a sense of how well the model is performing\n",
    "from sklearn.metrics import r2_score\n",
    "\n",
    "r2 = r2_score(y_test, predictions)\n",
    "print(f\"R^2 Score: {r2}\")"
   ]
  }
 ],
 "metadata": {
  "kernelspec": {
   "display_name": "Python 3 (ipykernel)",
   "language": "python",
   "name": "python3"
  },
  "language_info": {
   "codemirror_mode": {
    "name": "ipython",
    "version": 3
   },
   "file_extension": ".py",
   "mimetype": "text/x-python",
   "name": "python",
   "nbconvert_exporter": "python",
   "pygments_lexer": "ipython3",
   "version": "3.9.12"
  }
 },
 "nbformat": 4,
 "nbformat_minor": 5
}
